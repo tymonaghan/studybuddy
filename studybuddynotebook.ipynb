{
    "metadata": {
        "kernelspec": {
            "name": "SQL",
            "display_name": "SQL",
            "language": "sql"
        },
        "language_info": {
            "name": "sql",
            "version": ""
        }
    },
    "nbformat_minor": 2,
    "nbformat": 4,
    "cells": [
        {
            "cell_type": "markdown",
            "source": [
                "this book runs inside the studybuddy db!"
            ],
            "metadata": {
                "azdata_cell_guid": "54de21fe-475d-491a-93e3-14441b3364e2"
            },
            "attachments": {}
        },
        {
            "cell_type": "code",
            "source": [
                ""
            ],
            "metadata": {
                "azdata_cell_guid": "73f83e12-196d-4ff2-bebf-7cda25fde34f"
            },
            "outputs": [],
            "execution_count": null
        }
    ]
}